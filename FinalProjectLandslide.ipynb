{
 "cells": [
  {
   "cell_type": "markdown",
   "id": "c9e1a030-c014-4cc2-b591-2a188076fc4a",
   "metadata": {},
   "source": [
    "***Landslide Prone Areas***"
   ]
  },
  {
   "cell_type": "markdown",
   "id": "ec11445c-0393-4954-a2db-46c199255384",
   "metadata": {},
   "source": [
    "The dataset only includes identifiers for each area, and not where the area is in space. However, the dataset did have an option for a map, so that can be manually referenced to determine where each area is. The most landslide prone neigborhood will have the most landslide prone area in its borders."
   ]
  },
  {
   "cell_type": "markdown",
   "id": "f0ac2a99-37f6-4a44-a331-c88086e95d7b",
   "metadata": {},
   "source": [
    "This code returns a list of Ids and the amount of acres in each area, ranked largest area to smallest. "
   ]
  },
  {
   "cell_type": "code",
   "execution_count": 56,
   "id": "da09feed-ce24-4037-9bfe-823325242b30",
   "metadata": {},
   "outputs": [
    {
     "name": "stdout",
     "output_type": "stream",
     "text": [
      "Id: 22 Acres: 1054.607\n",
      "Id: 1 Acres: 911.371\n",
      "Id: 2 Acres: 721.516\n",
      "Id: 16 Acres: 568.816\n",
      "Id: 29 Acres: 525.429\n",
      "Id: 19 Acres: 516.954\n",
      "Id: 5 Acres: 453.695\n",
      "Id: 37 Acres: 280.649\n",
      "Id: 6 Acres: 246.52\n",
      "Id: 36 Acres: 216.452\n",
      "Id: 25 Acres: 205.988\n",
      "Id: 26 Acres: 200.483\n",
      "Id: 27 Acres: 192.413\n",
      "Id: 28 Acres: 186.041\n",
      "Id: 24 Acres: 173.118\n",
      "Id: 23 Acres: 120.328\n",
      "Id: 32 Acres: 113.537\n",
      "Id: 9 Acres: 111.811\n",
      "Id: 33 Acres: 93.202\n",
      "Id: 31 Acres: 89.803\n",
      "Id: 10 Acres: 84.537\n",
      "Id: 30 Acres: 49.62\n",
      "Id: 17 Acres: 44.423\n",
      "Id: 15 Acres: 43.316\n",
      "Id: 18 Acres: 38.777\n",
      "Id: 4 Acres: 24.743\n",
      "Id: 35 Acres: 19.897\n",
      "Id: 3 Acres: 19.157\n",
      "Id: 12 Acres: 13.71\n",
      "Id: 20 Acres: 13.429\n",
      "Id: 34 Acres: 12.22\n",
      "Id: 7 Acres: 9.586\n",
      "Id: 21 Acres: 8.417\n",
      "Id: 13 Acres: 6.246\n",
      "Id: 14 Acres: 5.535\n",
      "Id: 8 Acres: 3.9\n",
      "Id: 11 Acres: 1.654\n"
     ]
    }
   ],
   "source": [
    "f= open('/ihome/cmpinf0010_2025s/owm18/FinalProject/pittLandslideAreas.txt', 'r')\n",
    "Acres = []\n",
    "AcresRanked = []\n",
    "f.readline() \n",
    "for line in f: \n",
    "    tempList = line.split(',')\n",
    "    Acres.append(float(tempList[3]))\n",
    "    AcresRanked.append(float(tempList[3]))\n",
    "AcresRanked.sort(reverse=True)\n",
    "for item in AcresRanked: \n",
    "    currentNum = item\n",
    "    print(f\"Id: {Acres.index(currentNum) + 1} Acres: {currentNum}\")"
   ]
  },
  {
   "cell_type": "code",
   "execution_count": null,
   "id": "e537222f-e249-4104-b952-23891e4bcb31",
   "metadata": {},
   "outputs": [],
   "source": []
  }
 ],
 "metadata": {
  "kernelspec": {
   "display_name": "Python 3 (ipykernel)",
   "language": "python",
   "name": "python3"
  },
  "language_info": {
   "codemirror_mode": {
    "name": "ipython",
    "version": 3
   },
   "file_extension": ".py",
   "mimetype": "text/x-python",
   "name": "python",
   "nbconvert_exporter": "python",
   "pygments_lexer": "ipython3",
   "version": "3.11.5"
  }
 },
 "nbformat": 4,
 "nbformat_minor": 5
}
